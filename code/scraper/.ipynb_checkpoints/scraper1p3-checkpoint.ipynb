{
 "cells": [
  {
   "cell_type": "code",
   "execution_count": 35,
   "metadata": {
    "collapsed": false
   },
   "outputs": [
    {
     "name": "stdout",
     "output_type": "stream",
     "text": [
      "[<a class=\"red\" href=\"http://www.unian.ua/politics/1268869-parubiy-rozviyav-spodivannya-schodo-peregolosuvannya-za-vidstavku-kabminu.html\"><span class=\"date\">12:59</span>Парубій розвіяв сподівання щодо переголосування за відставку Кабміну</a>, <a href=\"http://www.unian.ua/society/1268868-savchenko-3-bereznya-vistupit-z-ostannim-slovom-u-rosiyskomu-sudi-advokat.html\"><span class=\"date\">12:53</span>Савченко 3 березня виступить з останнім словом у російському суді - адвокат</a>, <a class=\"bold\" href=\"http://economics.unian.ua/transport/1268862-u-evropi-dozvolili-poloti-nad-okupovanim-krimom-zmi.html\"><span class=\"date\">12:50</span>В Європі дозволили польоти над окупованим Кримом - ЗМІ</a>, <a href=\"http://www.unian.ua/society/1268842-turchinov-poyasniv-chomu-ukrajinska-zbroya-e-konkurentnoyu-na-zovnishnih-rinkah.html\"><span class=\"date\">12:49</span>Турчинов пояснив, чому українська зброя є конкурентною на зовнішніх ринках</a>, <a href=\"http://economics.unian.ua/transport/1268854-za-vchorashniy-den-do-ukrajini-povernulis-17-zablokovanih-u-rosiji-ukrajinskih-fur.html\"><span class=\"date\">12:44</span>За вчорашній день до України повернулись 17 заблокованих у Росії українських фур</a>, <a href=\"http://www.unian.ua/politics/1268853-u-kremenchuku-dekomunizuvali-114-radyanskih-vulits.html\"><span class=\"date\">12:44</span>У Кременчуку \"декомунізували\" 114 радянських вулиць</a>, <a href=\"http://www.unian.ua/sport/1268847-ukrajinka-svitolina-viyshla-u-chvertfinal-tenisnogo-turniru-v-dubaji.html\"><span class=\"date\">12:43</span>Українка Світоліна вийшла у чвертьфінал тенісного турніру в Дубаї </a>, <a href=\"http://www.unian.ua/war/1268837-rozvidka-zayavlyae-pro-smert-pyatoh-rosiyskih-desantnikiv-na-donbasi-vprodovj-dvoh-dniv.html\"><span class=\"date\">12:41</span>Розвідка заявляє про смерть п'ятьох російських десантників на Донбасі впродовж двох днів\r\n",
      "</a>, <a href=\"http://www.unian.ua/world/1268831-sili-asada-vidbili-u-povstantsiv-strategichne-misto-v-latakiji.html\"><span class=\"date\">12:36</span>Сили Асада відбили у повстанців стратегічне місто в Латакії</a>, <a href=\"http://www.unian.ua/politics/1268822-rada-zaklikae-derjavi-svitu-posiliti-sanktsiji-proti-rf-cherez-zvolikannya-zi-zvilnennyam-zaruchnikiv.html\"><span class=\"date\">12:31</span>Рада закликає держави світу посилити санкції проти РФ через зволікання зі звільненням заручників</a>, <a class=\"bold\" href=\"http://www.unian.ua/world/1268820-potujniy-vibuh-v-ankari-lider-siriyskih-kurdiv-zaperechue-prichetnist-do-teraktu.html\"><span class=\"date\">12:30</span>Потужний вибух в Анкарі: лідер сирійських курдів заперечує причетність до теракту</a>, <a href=\"http://economics.unian.ua/realestate/1268815-rada-obmejila-peredachu-v-koristuvannya-zemli-bez-auktsioniv.html\"><span class=\"date\">12:30</span>Рада обмежила передачу в користування землі без аукціонів</a>, <a href=\"http://www.unian.ua/politics/1268805-narodniy-front-golosuvatime-za-vsi-bezvizovi-zakoni-burbak.html\"><span class=\"date\">12:21</span>\"Народний фронт\" голосуватиме за всі безвізові закони - Бурбак</a>, <a href=\"http://kiev.unian.ua/1268803-ekspert-nazvav-umovu-za-yakoji-firtash-i-boyko-vtratyat-vpliv-na-kijivgaz.html\"><span class=\"date\">12:15</span>Експерт назвав умову, за якої Фірташ і Бойко втратять вплив на \"Київгаз\"\r\n",
      "</a>, <a href=\"http://economics.unian.ua/transport/1268797-z-chernivetskoji-oblasti-v-rosiyu-virushila-kolona-iz-43-blokadnih-rosiyskih-fur.html\"><span class=\"date\">12:13</span>З Чернівецької області в Росію вирушила колона із 43 \"блокадних\" російських фур</a>, <a href=\"http://economics.unian.ua/finance/1268792-oesr-znizila-prognoz-zrostannya-svitovoji-ekonomiki.html\"><span class=\"date\">12:10</span>ОЕСР знизила прогноз зростання світової економіки</a>, <a class=\"bold\" href=\"http://economics.unian.ua/industry/1268783-dlya-perehodu-ukroboronpromu-na-standarti-nato-neobhidniy-21-milyard-griven-gendirektor.html\"><span class=\"date\">12:09</span>Для переходу \"Укроборонпрому\" на стандарти НАТО необхідний 21 мільярд гривень - гендиректор</a>, <a class=\"bold\" href=\"http://www.unian.ua/politics/1268784-rada-zaklikala-mijnarodne-spivtovaristvo-zasuditi-nasilnitski-diji-rf-i-posiliti-tisk-na-neji.html\"><span class=\"date\">12:05</span>Рада закликала міжнародне співтовариство засудити насильницькі дії РФ і посилити тиск на неї</a>, <a href=\"http://www.unian.ua/society/1268772-v-ukrajini-vid-gripu-pomerli-313-osib-u-tomu-chisli-pyatero-ditey-moz.html\"><span class=\"date\">11:55</span>В Україні від грипу померли 313 осіб, у тому числі п’ятеро дітей - МОЗ</a>, <a href=\"http://economics.unian.ua/agro/1268770-kapusta-perets-granati-u-rosiji-mojut-rozshiriti-spisok-zaboronenih-turetskih-produktiv.html\"><span class=\"date\">11:55</span>Капуста, перець, гранати: у Росії можуть розширити список заборонених турецьких продуктів</a>, <a class=\"bold\" href=\"http://www.unian.ua/politics/1268765-rada-vimagae-vid-rosiji-pripiniti-okupatsiyu-vikradennya-lyudey-i-finansuvannya-teroristiv.html\"><span class=\"date\">11:54</span>Рада вимагає від Росії припинити окупацію, викрадення людей і фінансування терористів</a>, <a class=\"bold\" href=\"http://www.unian.ua/world/1268761-u-turechchini-progrimiv-sche-odin-vibuh-e-zagibli-reuters.html\"><span class=\"date\">11:48</span>У Туреччині прогримів ще один вибух, є загиблі - Reuters</a>, <a class=\"bold\" href=\"http://economics.unian.ua/finance/1268757-grivnya-na-mijbanku-zmitsnilasya-vidrazu-na-40-kopiyok.html\"><span class=\"date\">11:46</span>Гривня на міжбанку зміцнилася відразу на 40 копійок</a>, <a class=\"bold\" href=\"http://www.unian.ua/politics/1268745-rada-dozvolila-poroshenku-operativno-ogoloshuvati-prizov.html\"><span class=\"date\">11:34</span>Рада дозволила Порошенку оперативно оголошувати призов</a>, <a href=\"http://www.unian.ua/politics/1268744-posol-ssha-zaklikav-radu-nevidkladno-uhvaliti-zmini-do-konstitutsiji-v-chastini-pravosuddya.html\"><span class=\"date\">11:30</span>Посол США закликав Раду невідкладно ухвалити зміни до Конституції в частині правосуддя</a>, <a class=\"bold\" href=\"http://www.unian.ua/world/1268732-premer-turechchini-zvinuvativ-siriyskih-kurdiv-u-terakti-v-ankari.html\"><span class=\"date\">11:27</span>Прем'єр Туреччини звинуватив сирійських курдів у теракті в Анкарі</a>, <a href=\"http://www.unian.ua/politics/1268725-tombinskiy-ochikue-vid-vladi-ukrajini-konsolidatsiji-zusil-u-provedenni-reform.html\"><span class=\"date\">11:23</span>Томбінський очікує від влади України консолідації зусиль у проведенні реформ</a>, <a class=\"bold\" href=\"http://www.unian.ua/politics/1268719-lyashko-zayaviv-scho-yogo-fraktsiya-gotova-uviyti-do-novoji-koalitsiji.html\"><span class=\"date\">11:18</span>Ляшко заявив, що його фракція готова увійти до нової коаліції</a>, <a href=\"http://www.unian.ua/politics/1268710-borotba-z-koruptsieyu-v-ukrajini-povinna-stati-skladovoyu-zagalnoji-borotbi-proti-kremlya-posol-ssha.html\"><span class=\"date\">11:15</span>Боротьба з корупцією в Україні повинна стати складовою загальної боротьби проти Кремля - посол США</a>, <a href=\"http://www.unian.ua/war/1268703-u-slovyansku-zatrimali-zastupnika-girkina-foto.html\"><span class=\"date\">11:07</span>У Слов'янську затримали заступника Гіркіна (фото)</a>, <a class=\"photo\" href=\"http://www.unian.ua/war/1268703-u-slovyansku-zatrimali-zastupnika-girkina-foto.html\"></a>, <a class=\"bold\" href=\"http://www.unian.ua/world/1268691-sotni-ozbroenih-biytsiv-pokinuli-teritoriyu-turechchini-i-peretnuli-siriyskiy-kordon.html\"><span class=\"date\">11:00</span>Сотні озброєних бійців покинули територію Туреччини і перетнули сирійський кордон </a>, <a href=\"http://economics.unian.ua/energetics/1268685-derjgeonadr-vistavit-na-auktsion-7-naftogazovih-dilyanok.html\"><span class=\"date\">10:59</span>Держгеонадр виставить на аукціон 7 нафтогазових ділянок</a>, <a class=\"bold\" href=\"http://www.unian.ua/politics/1268677-payett-prezident-mae-uzgoditi-kandidaturu-novogo-genprokurora-z-radoyu-i-suspilstvom.html\"><span class=\"date\">10:58</span>Пайєтт: президент має узгодити кандидатуру нового генпрокурора з Радою і суспільством</a>]\n"
     ]
    }
   ],
   "source": [
    "from urllib.request import urlopen # for python3\n",
    "from bs4 import BeautifulSoup\n",
    "import re\n",
    "\n",
    "#url = 'http://w1.c1.rada.gov.ua/pls/zweb2/webproc555'\n",
    "url = 'http://www.unian.ua/' # обираємо адресу сторінки\n",
    "response = urlopen(url) # \n",
    "html = response.read()\n",
    "\n",
    "selector = 'ul.main_all_news li a'\n",
    "soup = BeautifulSoup(html, \"html.parser\")\n",
    "\n",
    "\n",
    "bills = soup.select(selector)\n",
    "print(bills[0].text)\n",
    "\n",
    "\n",
    "#for l in bills:\n",
    "        #if re.match(u\".*прокуратур.*\", l.text): print(l.text)\n",
    "#        l.text"
   ]
  }
 ],
 "metadata": {
  "kernelspec": {
   "display_name": "Python 3",
   "language": "python",
   "name": "python3"
  },
  "language_info": {
   "codemirror_mode": {
    "name": "ipython",
    "version": 3
   },
   "file_extension": ".py",
   "mimetype": "text/x-python",
   "name": "python",
   "nbconvert_exporter": "python",
   "pygments_lexer": "ipython3",
   "version": "3.4.3+"
  }
 },
 "nbformat": 4,
 "nbformat_minor": 0
}
