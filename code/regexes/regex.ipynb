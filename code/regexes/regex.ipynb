{
 "cells": [
  {
   "cell_type": "markdown",
   "metadata": {},
   "source": [
    "### Регулярні вирази, for fun and profit\n",
    "\n",
    "План заняття\n",
    "\n",
    "1. Що таке регулярні вирази?\n",
    "2. Найбільш поширені приклади\n",
    "  * метасимволи - . ^ $ * + ? { } [ ] \\ | ( )\n",
    "  * класи \\d \\D \\s \\w \\W\n",
    "  \n",
    "3. Практичне застосування для аналізу текстів\n",
    "\n"
   ]
  },
  {
   "cell_type": "markdown",
   "metadata": {},
   "source": [
    "RegEx (РегВир) - це правило (шаблон), за яким ви вказуєте як вибирати з тектсу необхідні вам фрагменти. Цікаво, що regexes - це мінімалістична мова програмування\n",
    "\n",
    "```\n",
    ". - будь який символ\n",
    "^ - початок строки \n",
    "$ - кінець строки \n",
    "* - повторити попередній символ **нуль** або більше разів\n",
    "+ - повторити попередній символ **один** або більше разів \n",
    "? - попередній символ є, або його немає  \n",
    "{} - інтервал повторів, {1,2} - попередній символ може зустрітися 1 або два рази поспіль \n",
    "[] - класи символів, може бути через тире. Наприклад, [0-9] - всі цифри  \n",
    "\\ - екран (наприклад, ставте \\ перед + щоб знайти саме \"+\", як знак )\n",
    "| - або: напр. \"зрада|перемога\" знайде у тексті або \"зрада\", або \"перемога\"  \n",
    "( ) - поіменовані групи символів\n",
    "```\n",
    "\n",
    "[Regex'и & Python](http://nbviewer.jupyter.org/github/rasbt/python_reference/blob/master/tutorials/useful_regex.ipynb#A-collection-of-useful-regular-expressions) \n",
    "\n",
    "* re.match() : шукати RE на початку строки\n",
    "* re.search() : шукати RE будь де у строці\n",
    "* re.findall() : знайти всі співпадіння, повернути список\n",
    "* re.finditer() : Find all substrings where the RE matches, and returns them as an iterator.\n",
    "\n"
   ]
  },
  {
   "cell_type": "code",
   "execution_count": 13,
   "metadata": {
    "collapsed": false
   },
   "outputs": [
    {
     "name": "stdout",
     "output_type": "stream",
     "text": [
      "['luck', 'duck']\n"
     ]
    }
   ],
   "source": [
    "import re\n",
    "\n",
    "text = \"\"\"\n",
    "I'd like to test my luck, where is a duck\n",
    "\"\"\"\n",
    "\n",
    "comp = re.compile(r'.?uck')    # знайти  строці все, що має закінчення uck\n",
    "match = comp.findall(text)\n",
    "print( match )"
   ]
  },
  {
   "cell_type": "code",
   "execution_count": 4,
   "metadata": {
    "collapsed": false
   },
   "outputs": [
    {
     "name": "stdout",
     "output_type": "stream",
     "text": [
      "Миколу Коханівського\n",
      "Сбербанку Росії\n",
      "Ріната Ахметова\n"
     ]
    }
   ],
   "source": [
    "# текст новини\n",
    "news = u\"\"\"\n",
    "Після погромів у російських банках на допит викликають комбата \"ОУН\"\n",
    "24.02.2016 | 14:21\n",
    "Миколу Коханівського викликали у якості підозрюваного.\n",
    "Сьогодні в МВС на допит викликали командира добровольчого батальону \"ОУН\". Про це повідомляє ТСН.ua.\n",
    "МВС розслідує причетність Коханівського до погромів у російських банках. Повістку комбат вже отримав.\n",
    "За інформацією видання, комбата бачили серед чоловіків, які влаштували безлади у приміщеннях. Як уже повідомлялося, співробітники поліції вже встановили десятьох учасників атак на російські банки у Києві. Це жителі столиці 1998 і 1999 років народження.\n",
    "Нагадаємо, 20 лютого в центрі Києва невідомі особи камінням розбили скло у вітринах \"Альфа-банку\", \"Сбербанку Росії\" і в офісі бізнесмена Ріната Ахметова. \n",
    "Повідомлялося, що за цими трьома фактами було відкрито кримінальні провадження за ст. 296 (хуліганство) Кримінального кодексу України.\n",
    "Детальніше читайте на УНІАН: http://www.unian.ua/society/1274351-pislya-pogromiv-u-rosiyskih-bankah-na-dopit-viklikayut-kombata-oun.html\n",
    "\"\"\"\n",
    "\n",
    "def ppp(lst):\n",
    "    \"\"\" супер функція для друку результатів \"\"\"    \n",
    "    for li in lst:\n",
    "        print(li)\n",
    "\n",
    "# find names\n",
    "match = re.findall(u'(?u)[А-Я]\\w*\\s+[А-Я]\\w*', news)\n",
    "ppp(match)\n"
   ]
  },
  {
   "cell_type": "code",
   "execution_count": 8,
   "metadata": {
    "collapsed": false
   },
   "outputs": [
    {
     "name": "stdout",
     "output_type": "stream",
     "text": [
      "ст. 296\n"
     ]
    }
   ],
   "source": [
    "# find criminal articles\n",
    "match = re.findall(ur'(?u)ст\\. \\d{1,5}', news)\n",
    "ppp(match)"
   ]
  },
  {
   "cell_type": "code",
   "execution_count": 9,
   "metadata": {
    "collapsed": false
   },
   "outputs": [
    {
     "name": "stdout",
     "output_type": "stream",
     "text": [
      "24.02.2016\n"
     ]
    }
   ],
   "source": [
    "# find date\n",
    "match = re.findall(ur'(?u)\\d{1,2}\\.\\d{1,2}.\\d{2,4}', news)\n",
    "ppp(match)"
   ]
  },
  {
   "cell_type": "code",
   "execution_count": 14,
   "metadata": {
    "collapsed": false
   },
   "outputs": [
    {
     "name": "stdout",
     "output_type": "stream",
     "text": [
      "\"ОУН\"\n",
      "\"ОУН\"\n",
      "\"Альфа-банку\"\n",
      "\"Сбербанку Росії\"\n"
     ]
    }
   ],
   "source": [
    "#best trick in regex: Not_this_context|(WeWantThis)\n",
    "#match = re.findall(u'(?u)комбата|комбату|(комбат)', news)\n",
    "#match = re.findall(u'(?u)(?<=\").+?(?=\")', news) # positive loockahead and lookbehind\n",
    "\n",
    "# все, що в лапках. зазвичай, це цікаві назви\n",
    "match = re.findall(u'(?u)\".+?\"', news)\n",
    "ppp(match)\n",
    "\n"
   ]
  },
  {
   "cell_type": "markdown",
   "metadata": {},
   "source": [
    "RegExи зустрічаються всюди - навіть у екселі (Find & Replace). Класний приклад аналізу: [Електронна пошта Гіларі](https://github.com/datahoarder/secretary-clinton-email-dump/blob/master/README.md)\n",
    " "
   ]
  },
  {
   "cell_type": "code",
   "execution_count": null,
   "metadata": {
    "collapsed": false,
    "scrolled": true
   },
   "outputs": [],
   "source": [
    "# знайти всі долари, що згадуються у переписці\n",
    "!ag '\\$\\d+' ./clinton"
   ]
  },
  {
   "cell_type": "code",
   "execution_count": 10,
   "metadata": {
    "collapsed": false
   },
   "outputs": [
    {
     "name": "stdout",
     "output_type": "stream",
     "text": [
      "     14 http://www.messagelabs.com/email\r\n",
      "      6 http://www.nio.gov.uk/the-agreement\r\n",
      "      6 http://www.guardian.co.uk/uk/northernireland\r\n",
      "      6 http://www.guardian.co.uk/profile/henrymcdonald\r\n",
      "      6 http://www.guardian.co.uk/politics/sinn-fein\r\n",
      "      6 http://www.guardian.co.uk/politics/dup\r\n",
      "      6 http://www.guardian.co.uk/politics/2010/feb/05/northern-ireland-dup-ulsterdeal\r\n",
      "      6 http://www.guardian.co.uk/help/accessibility\r\n",
      "      6 http://static.guim.co.uk/sysimages/Guardian/Pix/pictures/2010/2/5/1265368562294/Gordon-Brown-Peter-Robins-001.jpg\r\n",
      "      5 http://www.huffingtonpost.com/\r\n",
      "      4 http://www.youtube.com/nicholaskristof\r\n",
      "      4 http://www.tomdispatch.com/blog/175334/\r\n",
      "      4 http://www.sipri.org/research/armaments/milex/resultoutput/trends\r\n",
      "      4 http://www.sipri.org/research/armaments/milex/resultoutput/trendgraphs/Top1Obubble/top1Obubble2009/image_vi\r\n",
      "      4 http://www.nytimes.com/ontheground\r\n",
      "      4 http://www.nytimes.com/2010/07/29/opinion/29kristof.html\r\n",
      "      4 http://www.guardian.co.ukh\r\n",
      "      4 http://www.ft.com/servicestools/help/copyright\r\n",
      "      4 http://www.facebook.com/kristof\r\n",
      "      4 http://twitter.com/nickkristof\r\n",
      "sort: write failed: standard output: Broken pipe\r\n",
      "sort: write error\r\n"
     ]
    }
   ],
   "source": [
    "# сайти\n",
    "\n",
    "!grep -oh \"https\\?://[^ >]\\+\" ./clinton/*.txt |  sort | uniq -c | sort -rn | head -20\n",
    "    "
   ]
  },
  {
   "cell_type": "code",
   "execution_count": 11,
   "metadata": {
    "collapsed": false
   },
   "outputs": [
    {
     "name": "stdout",
     "output_type": "stream",
     "text": [
      "    226 <HDR22@clintonemail.com>\r\n",
      "    132 <AbedinH@state.gov>\r\n",
      "    129 <MillsCD@state.gov>\r\n",
      "     73 <SullivanJJ@state.gov>\r\n",
      "     31 <SlaughterA@state.gov>\r\n",
      "     22 <McHaleJA@state.gov>\r\n",
      "     19 <HDR22@clintonemail.com >\r\n",
      "     18 <VerveerMS@state.gov>\r\n",
      "     17 <BalderstonKM@state.gov>\r\n",
      "     16 <VermaRR@state.gov>\r\n",
      "     14 <ValmoroU@state.gov>\r\n",
      "     13 <Sullivanil@state.gov>\r\n",
      "     13 <Sullivanii@state.gov>\r\n",
      "     13 <JilotyLC@state.gov>\r\n",
      "     12 <Sullivann@state.gov>\r\n",
      "     12 <MuscatineL@state.gov>\r\n",
      "     11 <OpsNewsTicker@state.gov>\r\n",
      "      9 <Tim_Rieser@appro.senate.gov>\r\n",
      "      6 <HanleyMR@state.gov>\r\n",
      "      3 <TillemannTS@state.gov>\r\n"
     ]
    }
   ],
   "source": [
    "# з ким переписується?\n",
    "!ag  --noheading '^From: .+' ./clinton | grep -oh \"<.\\+>$\" |  sort | uniq -c | sort -rn | head -20"
   ]
  },
  {
   "cell_type": "markdown",
   "metadata": {},
   "source": [
    "Корисний інструмент: [Онлайн-тренажер для регулярних виразів, з підказками і допомогою](https://regex101.com)"
   ]
  }
 ],
 "metadata": {
  "kernelspec": {
   "display_name": "Python 2",
   "language": "python",
   "name": "python2"
  },
  "language_info": {
   "codemirror_mode": {
    "name": "ipython",
    "version": 2
   },
   "file_extension": ".py",
   "mimetype": "text/x-python",
   "name": "python",
   "nbconvert_exporter": "python",
   "pygments_lexer": "ipython2",
   "version": "2.7.6"
  }
 },
 "nbformat": 4,
 "nbformat_minor": 0
}
